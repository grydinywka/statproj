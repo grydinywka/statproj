{
 "cells": [
  {
   "cell_type": "code",
   "execution_count": null,
   "metadata": {
    "collapsed": false
   },
   "outputs": [],
   "source": [
    "from dwapi import datawiz\n",
    "import datetime\n",
    "\n",
    "date_from = datetime.date(2015, 8, 9)\n",
    "date_to = datetime.date(2015, 9, 12)\n",
    "dw = datawiz.DW()\n",
    "dw.get_products_sale(products = [2855561, 2861880],by='turnover',\n",
    "\t\t\t\tshops = [601,641,595], \n",
    "\t\t\t\tdate_from = date_from, \n",
    "\t\t\t\tdate_to = date_to, \n",
    "\t\t\t\tinterval = datawiz.WEEKS)\n"
   ]
  }
 ],
 "metadata": {
  "kernelspec": {
   "display_name": "Python 2",
   "language": "python",
   "name": "python2"
  },
  "language_info": {
   "codemirror_mode": {
    "name": "ipython",
    "version": 2
   },
   "file_extension": ".py",
   "mimetype": "text/x-python",
   "name": "python",
   "nbconvert_exporter": "python",
   "pygments_lexer": "ipython2",
   "version": "2.7.10"
  }
 },
 "nbformat": 4,
 "nbformat_minor": 0
}
